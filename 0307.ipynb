{
 "cells": [
  {
   "cell_type": "markdown",
   "metadata": {
    "slideshow": {
     "slide_type": "slide"
    }
   },
   "source": [
    "# Pythonのプログラムの書き方\n",
    "\n",
    "* Windows,Mac,Linuxで使うことができる\n",
    "* 互換性が高く使い回しができる\n",
    "* インタープリターである (対話モード) \n",
    "* 実際のコード画面である"
   ]
  },
  {
   "cell_type": "markdown",
   "metadata": {
    "slideshow": {
     "slide_type": "subslide"
    }
   },
   "source": [
    "### スクリプト画面\n",
    "<img src=\"script.png\" width=\"900px\">"
   ]
  },
  {
   "cell_type": "markdown",
   "metadata": {
    "slideshow": {
     "slide_type": "subslide"
    }
   },
   "source": [
    "* これだと非常にわかりにくい\n",
    "* Pythonで書ける便利な環境を使う\n",
    "* Jupyter Notebook (あるいはJupyter Lab)、Colaboratoryがオススメである\n",
    "* 今回はJupyter Notebookを使う"
   ]
  },
  {
   "cell_type": "markdown",
   "metadata": {
    "slideshow": {
     "slide_type": "slide"
    }
   },
   "source": [
    "# 百問は一見にしかず\n",
    "\n",
    "どんなことができるか、経験してみる"
   ]
  },
  {
   "cell_type": "markdown",
   "metadata": {
    "slideshow": {
     "slide_type": "slide"
    }
   },
   "source": [
    "# 四則演算\n",
    "* 足し算，引き算，掛け算，割り算のことである。\n",
    "* 商や剰余も求めることができる。\n",
    "* 指数計算もできる。"
   ]
  },
  {
   "cell_type": "code",
   "execution_count": null,
   "metadata": {
    "slideshow": {
     "slide_type": "subslide"
    }
   },
   "outputs": [],
   "source": [
    "#1+2"
   ]
  },
  {
   "cell_type": "code",
   "execution_count": null,
   "metadata": {
    "slideshow": {
     "slide_type": "subslide"
    }
   },
   "outputs": [],
   "source": [
    "#3-2"
   ]
  },
  {
   "cell_type": "code",
   "execution_count": null,
   "metadata": {
    "slideshow": {
     "slide_type": "subslide"
    }
   },
   "outputs": [],
   "source": [
    "#5*2"
   ]
  },
  {
   "cell_type": "code",
   "execution_count": null,
   "metadata": {
    "slideshow": {
     "slide_type": "subslide"
    }
   },
   "outputs": [],
   "source": [
    "#5**2"
   ]
  },
  {
   "cell_type": "code",
   "execution_count": null,
   "metadata": {
    "slideshow": {
     "slide_type": "subslide"
    }
   },
   "outputs": [],
   "source": [
    "#9/5"
   ]
  },
  {
   "cell_type": "code",
   "execution_count": null,
   "metadata": {
    "slideshow": {
     "slide_type": "subslide"
    }
   },
   "outputs": [],
   "source": [
    "#9//5"
   ]
  },
  {
   "cell_type": "code",
   "execution_count": null,
   "metadata": {
    "slideshow": {
     "slide_type": "subslide"
    }
   },
   "outputs": [],
   "source": [
    "#9%5"
   ]
  },
  {
   "cell_type": "markdown",
   "metadata": {
    "slideshow": {
     "slide_type": "subslide"
    }
   },
   "source": [
    "|メソッド|作用|\n",
    "|:-:|:-:|\n",
    "|足し算|+|\n",
    "|引き算|-|\n",
    "|掛け算| * |\n",
    "|割り算|/|\n",
    "|商|//|\n",
    "|乗余|%|\n",
    "|べき乗| ** |"
   ]
  },
  {
   "cell_type": "markdown",
   "metadata": {
    "slideshow": {
     "slide_type": "slide"
    }
   },
   "source": [
    "# 変数\n",
    "* 変数を使うことで，計算結果や各種データを保存することができる。保存された変数は後で使うこともできる。\n",
    "* 変数は決めることができるがルールがあるので注意する。\n",
    "* 変数として使ってはいけないものがあるので注意する。"
   ]
  },
  {
   "cell_type": "code",
   "execution_count": null,
   "metadata": {
    "slideshow": {
     "slide_type": "subslide"
    }
   },
   "outputs": [],
   "source": [
    "price = 100"
   ]
  },
  {
   "cell_type": "markdown",
   "metadata": {},
   "source": [
    "* priceという変数(名)に100を代入する\n",
    "* `=`は`代入`を指示する。(同じという意味ではない)"
   ]
  },
  {
   "cell_type": "code",
   "execution_count": null,
   "metadata": {
    "slideshow": {
     "slide_type": "subslide"
    }
   },
   "outputs": [],
   "source": [
    "price"
   ]
  },
  {
   "cell_type": "markdown",
   "metadata": {},
   "source": [
    "プライスを実行するとpriceに格納された値が出力される"
   ]
  },
  {
   "cell_type": "code",
   "execution_count": null,
   "metadata": {
    "slideshow": {
     "slide_type": "subslide"
    }
   },
   "outputs": [],
   "source": [
    "price+10"
   ]
  },
  {
   "cell_type": "markdown",
   "metadata": {},
   "source": [
    "priceに10を加えるので110が出力される"
   ]
  },
  {
   "cell_type": "markdown",
   "metadata": {
    "slideshow": {
     "slide_type": "subslide"
    }
   },
   "source": [
    "変数への上書き"
   ]
  },
  {
   "cell_type": "code",
   "execution_count": null,
   "metadata": {
    "slideshow": {
     "slide_type": "subslide"
    }
   },
   "outputs": [],
   "source": [
    "#この時点のpriceの確認\n",
    "price"
   ]
  },
  {
   "cell_type": "code",
   "execution_count": null,
   "metadata": {
    "slideshow": {
     "slide_type": "-"
    }
   },
   "outputs": [],
   "source": [
    "price = 200"
   ]
  },
  {
   "cell_type": "markdown",
   "metadata": {},
   "source": [
    "priceは変数名として定義されている。現時点ではpriceは100という数値に置き換えられるが、上のコードを実行すると、priceは200に置き換わる。つまり、priceの中身が変わる。"
   ]
  },
  {
   "cell_type": "code",
   "execution_count": null,
   "metadata": {
    "slideshow": {
     "slide_type": "subslide"
    }
   },
   "outputs": [],
   "source": [
    "price"
   ]
  },
  {
   "cell_type": "code",
   "execution_count": null,
   "metadata": {
    "slideshow": {
     "slide_type": "subslide"
    }
   },
   "outputs": [],
   "source": [
    "price =100"
   ]
  },
  {
   "cell_type": "code",
   "execution_count": null,
   "metadata": {
    "slideshow": {
     "slide_type": "subslide"
    }
   },
   "outputs": [],
   "source": [
    "price"
   ]
  },
  {
   "cell_type": "markdown",
   "metadata": {},
   "source": [
    "priceが変更された、上書きされた。"
   ]
  },
  {
   "cell_type": "markdown",
   "metadata": {
    "slideshow": {
     "slide_type": "subslide"
    }
   },
   "source": [
    "変数同士の計算"
   ]
  },
  {
   "cell_type": "code",
   "execution_count": null,
   "metadata": {
    "slideshow": {
     "slide_type": "subslide"
    }
   },
   "outputs": [],
   "source": [
    "price_a = 10\n",
    "price_b = 20"
   ]
  },
  {
   "cell_type": "code",
   "execution_count": null,
   "metadata": {
    "slideshow": {
     "slide_type": "subslide"
    }
   },
   "outputs": [],
   "source": [
    "price_a + price_b"
   ]
  },
  {
   "cell_type": "markdown",
   "metadata": {},
   "source": [
    "変数は数値などの代わりに用いるのが一般的である。"
   ]
  },
  {
   "cell_type": "code",
   "execution_count": null,
   "metadata": {
    "slideshow": {
     "slide_type": "subslide"
    }
   },
   "outputs": [],
   "source": [
    "price_c = price_a + price_b"
   ]
  },
  {
   "cell_type": "markdown",
   "metadata": {},
   "source": [
    "変数名を使って計算したものを変数名に代入することができる。\n",
    "\n",
    "ただし、変数名をあらかじめ定義する必要がある。"
   ]
  },
  {
   "cell_type": "markdown",
   "metadata": {
    "slideshow": {
     "slide_type": "slide"
    }
   },
   "source": [
    "# 型(タイプ)"
   ]
  },
  {
   "cell_type": "markdown",
   "metadata": {
    "slideshow": {
     "slide_type": "subslide"
    }
   },
   "source": [
    "* 先ほどの5や1.8などの数値を，`整数`と`小数`に区別されることを知っておかなければならない。前者を`int`型，後者を`float`型という。\n",
    "* シングルクォテーション(')もしくはダブルクォテーション(\")で囲まれた値を`文字列型(str型)`という。\n",
    "* Pythonでは型によって処理の種類が決まめられており，int型やfloat型は四則演算が適用される。文字列型は，文字の途中を置き換えたり，文字同士の連結などができる。"
   ]
  },
  {
   "cell_type": "markdown",
   "metadata": {
    "slideshow": {
     "slide_type": "slide"
    }
   },
   "source": [
    "# 文字列①\n",
    "`str型`はシングルクォテーション(')もしくはダブルクォテーション(\")で囲む。どちらを用いても構わない，好みの問題である。"
   ]
  },
  {
   "cell_type": "code",
   "execution_count": null,
   "metadata": {
    "slideshow": {
     "slide_type": "subslide"
    }
   },
   "outputs": [],
   "source": [
    "name = \"理学療法士\""
   ]
  },
  {
   "cell_type": "markdown",
   "metadata": {},
   "source": [
    "nameという変数名に`理学療法士`を代入する"
   ]
  },
  {
   "cell_type": "code",
   "execution_count": null,
   "metadata": {
    "slideshow": {
     "slide_type": "subslide"
    }
   },
   "outputs": [],
   "source": [
    "name"
   ]
  },
  {
   "cell_type": "code",
   "execution_count": null,
   "metadata": {
    "slideshow": {
     "slide_type": "subslide"
    }
   },
   "outputs": [],
   "source": [
    "text = \"私は，'理学療法士'です。\""
   ]
  },
  {
   "cell_type": "markdown",
   "metadata": {},
   "source": [
    "textという変数名に文字を代入する"
   ]
  },
  {
   "cell_type": "code",
   "execution_count": null,
   "metadata": {
    "slideshow": {
     "slide_type": "subslide"
    }
   },
   "outputs": [],
   "source": [
    "text"
   ]
  },
  {
   "cell_type": "markdown",
   "metadata": {
    "slideshow": {
     "slide_type": "-"
    }
   },
   "source": [
    "文字列に`'`や`\"`が含まれる場合は含まれない方を文字列型と指定するコードに用いる。"
   ]
  },
  {
   "cell_type": "code",
   "execution_count": null,
   "metadata": {
    "slideshow": {
     "slide_type": "subslide"
    }
   },
   "outputs": [],
   "source": [
    "text1 = \"Hello\"\n",
    "text2 = \"World\""
   ]
  },
  {
   "cell_type": "code",
   "execution_count": null,
   "metadata": {},
   "outputs": [],
   "source": [
    "text1 + text2"
   ]
  },
  {
   "cell_type": "markdown",
   "metadata": {},
   "source": [
    "文字列同士の結合は`+`を使う。"
   ]
  },
  {
   "cell_type": "code",
   "execution_count": null,
   "metadata": {
    "slideshow": {
     "slide_type": "subslide"
    }
   },
   "outputs": [],
   "source": [
    "text1 = ''"
   ]
  },
  {
   "cell_type": "markdown",
   "metadata": {},
   "source": [
    "`''`に書くと空文字というものができる。これは文字のない文字形式という不思議なものである。\n",
    "あとから文字を追加する場所を確保するためによく使われる。"
   ]
  },
  {
   "cell_type": "code",
   "execution_count": null,
   "metadata": {
    "slideshow": {
     "slide_type": "subslide"
    }
   },
   "outputs": [],
   "source": [
    "text1+\"wakayama\""
   ]
  },
  {
   "cell_type": "code",
   "execution_count": null,
   "metadata": {},
   "outputs": [],
   "source": [
    "text1*3"
   ]
  },
  {
   "cell_type": "markdown",
   "metadata": {},
   "source": [
    "`*`と数字の組み合わせで文字列を繰り返すことができる"
   ]
  },
  {
   "cell_type": "code",
   "execution_count": null,
   "metadata": {},
   "outputs": [],
   "source": [
    "text1*0"
   ]
  },
  {
   "cell_type": "markdown",
   "metadata": {},
   "source": [
    "`*0`で空文字に戻る。(滅多に使わない)"
   ]
  },
  {
   "cell_type": "markdown",
   "metadata": {
    "slideshow": {
     "slide_type": "subslide"
    }
   },
   "source": [
    "数値から文字列への変換"
   ]
  },
  {
   "cell_type": "code",
   "execution_count": 1,
   "metadata": {
    "slideshow": {
     "slide_type": "-"
    }
   },
   "outputs": [],
   "source": [
    "num = 10\n",
    "ten = str(num)"
   ]
  },
  {
   "cell_type": "code",
   "execution_count": 2,
   "metadata": {},
   "outputs": [
    {
     "data": {
      "text/plain": [
       "0"
      ]
     },
     "execution_count": 2,
     "metadata": {},
     "output_type": "execute_result"
    }
   ],
   "source": [
    "num - num"
   ]
  },
  {
   "cell_type": "code",
   "execution_count": 3,
   "metadata": {
    "slideshow": {
     "slide_type": "subslide"
    }
   },
   "outputs": [
    {
     "data": {
      "text/plain": [
       "'10'"
      ]
     },
     "execution_count": 3,
     "metadata": {},
     "output_type": "execute_result"
    }
   ],
   "source": [
    "ten"
   ]
  },
  {
   "cell_type": "code",
   "execution_count": 4,
   "metadata": {},
   "outputs": [
    {
     "ename": "TypeError",
     "evalue": "unsupported operand type(s) for -: 'str' and 'str'",
     "output_type": "error",
     "traceback": [
      "\u001b[0;31m---------------------------------------------------------------------------\u001b[0m",
      "\u001b[0;31mTypeError\u001b[0m                                 Traceback (most recent call last)",
      "\u001b[0;32m<ipython-input-4-a7a0b2002649>\u001b[0m in \u001b[0;36m<module>\u001b[0;34m\u001b[0m\n\u001b[0;32m----> 1\u001b[0;31m \u001b[0mten\u001b[0m\u001b[0;34m-\u001b[0m\u001b[0mten\u001b[0m\u001b[0;34m\u001b[0m\u001b[0;34m\u001b[0m\u001b[0m\n\u001b[0m",
      "\u001b[0;31mTypeError\u001b[0m: unsupported operand type(s) for -: 'str' and 'str'"
     ]
    }
   ],
   "source": [
    "ten-ten"
   ]
  },
  {
   "cell_type": "markdown",
   "metadata": {},
   "source": [
    "組み込み関数である`str()`で10を文字列型にしているので，tenという変数には文字列型が存在する。"
   ]
  },
  {
   "cell_type": "markdown",
   "metadata": {
    "slideshow": {
     "slide_type": "subslide"
    }
   },
   "source": [
    "文字列から数値への変換"
   ]
  },
  {
   "cell_type": "markdown",
   "metadata": {
    "slideshow": {
     "slide_type": "-"
    }
   },
   "source": [
    "文字列型に数値のみが含まれていれば，`int()`，`float()`数値に変換することができる。"
   ]
  },
  {
   "cell_type": "code",
   "execution_count": null,
   "metadata": {},
   "outputs": [],
   "source": [
    "int(ten)"
   ]
  },
  {
   "cell_type": "markdown",
   "metadata": {
    "slideshow": {
     "slide_type": "subslide"
    }
   },
   "source": [
    "文字数のカウント"
   ]
  },
  {
   "cell_type": "markdown",
   "metadata": {},
   "source": [
    "`len()`を使って長さを得ることで文字数を調べることができる。スペースも含まれるので注意する。"
   ]
  },
  {
   "cell_type": "code",
   "execution_count": null,
   "metadata": {},
   "outputs": [],
   "source": [
    "len('Hello')"
   ]
  },
  {
   "cell_type": "code",
   "execution_count": null,
   "metadata": {},
   "outputs": [],
   "source": [
    "len('Hello World')"
   ]
  },
  {
   "cell_type": "markdown",
   "metadata": {
    "slideshow": {
     "slide_type": "slide"
    }
   },
   "source": [
    "# 文字列②"
   ]
  },
  {
   "cell_type": "markdown",
   "metadata": {
    "slideshow": {
     "slide_type": "subslide"
    }
   },
   "source": [
    "`シーケンス型`というグループがある。シーケンス型とは順番にデータが格納されているものを指し，文字列型はこれに該当する。\n",
    "\n",
    "シーケンス型のデータに対して行える便利な操作がある。この操作は非常によく使うので是非とも覚えてもらいたい。"
   ]
  },
  {
   "cell_type": "markdown",
   "metadata": {
    "slideshow": {
     "slide_type": "subslide"
    }
   },
   "source": [
    "インデクシングとスライシング\n",
    "\n",
    "indexとは目盛りや指針という意味であり，指すというニュアンスがある。Pythonでは`[index]`と書いて，シーケンス型のデータの特定の位置を指すことができる。これをインデクシングという。\n",
    "\n",
    "インデクシングでは，１箇所を指す。複数を指したい場合には`:`を使う。これをスライシングという。\n",
    "\n",
    "`[1:4]`ように書く。"
   ]
  },
  {
   "cell_type": "code",
   "execution_count": null,
   "metadata": {
    "slideshow": {
     "slide_type": "subslide"
    }
   },
   "outputs": [],
   "source": [
    "text = \"今日は天気が良いです。\""
   ]
  },
  {
   "cell_type": "markdown",
   "metadata": {},
   "source": [
    "textに`今日は・・・`の連続文字を代入する。"
   ]
  },
  {
   "cell_type": "code",
   "execution_count": null,
   "metadata": {},
   "outputs": [],
   "source": [
    "\"今日は天気が良いです。\"[0]\n",
    "# or text[0]"
   ]
  },
  {
   "cell_type": "markdown",
   "metadata": {},
   "source": [
    "連続文字の一番目の文字だけを出力する"
   ]
  },
  {
   "cell_type": "code",
   "execution_count": null,
   "metadata": {},
   "outputs": [],
   "source": [
    "\"今日は天気が良いです。\"[1]\n",
    "# or text[1]"
   ]
  },
  {
   "cell_type": "markdown",
   "metadata": {},
   "source": [
    "連続文字の二番目の文字だけを出力する"
   ]
  },
  {
   "cell_type": "code",
   "execution_count": null,
   "metadata": {
    "slideshow": {
     "slide_type": "subslide"
    }
   },
   "outputs": [],
   "source": [
    "\"今日は天気が良いです。\"[-1]\n",
    "# or text[-1]"
   ]
  },
  {
   "cell_type": "markdown",
   "metadata": {},
   "source": [
    "連続文字の最後の文字だけを出力する"
   ]
  },
  {
   "cell_type": "code",
   "execution_count": null,
   "metadata": {},
   "outputs": [],
   "source": [
    "\"今日は天気が良いです。\"[-2]\n",
    "# or text[-2]"
   ]
  },
  {
   "cell_type": "markdown",
   "metadata": {},
   "source": [
    "連続文字の最後から二番目の文字だけを出力する"
   ]
  },
  {
   "cell_type": "code",
   "execution_count": 5,
   "metadata": {
    "slideshow": {
     "slide_type": "subslide"
    }
   },
   "outputs": [
    {
     "ename": "NameError",
     "evalue": "name 'text' is not defined",
     "output_type": "error",
     "traceback": [
      "\u001b[0;31m---------------------------------------------------------------------------\u001b[0m",
      "\u001b[0;31mNameError\u001b[0m                                 Traceback (most recent call last)",
      "\u001b[0;32m<ipython-input-5-26deeb8f2ebb>\u001b[0m in \u001b[0;36m<module>\u001b[0;34m\u001b[0m\n\u001b[0;32m----> 1\u001b[0;31m \u001b[0mtext\u001b[0m\u001b[0;34m[\u001b[0m\u001b[0;36m40\u001b[0m\u001b[0;34m]\u001b[0m\u001b[0;34m\u001b[0m\u001b[0;34m\u001b[0m\u001b[0m\n\u001b[0m",
      "\u001b[0;31mNameError\u001b[0m: name 'text' is not defined"
     ]
    }
   ],
   "source": [
    "text[40]"
   ]
  },
  {
   "cell_type": "markdown",
   "metadata": {},
   "source": [
    "文字数よりも大きい数だとエラーになる"
   ]
  },
  {
   "cell_type": "markdown",
   "metadata": {
    "slideshow": {
     "slide_type": "subslide"
    }
   },
   "source": [
    "スライシングのイメージ\n",
    "<img src=\"fig001.png\" width=\"500px\">"
   ]
  },
  {
   "cell_type": "markdown",
   "metadata": {
    "slideshow": {
     "slide_type": "subslide"
    }
   },
   "source": [
    "スライシングの例"
   ]
  },
  {
   "cell_type": "code",
   "execution_count": null,
   "metadata": {},
   "outputs": [],
   "source": [
    "\"今日は天気が良いです。\"[2:5]\n",
    "# or text[2:5]"
   ]
  },
  {
   "cell_type": "code",
   "execution_count": null,
   "metadata": {},
   "outputs": [],
   "source": [
    "# \"今日は天気が良いです。\"[0:5]\n",
    "# or text[0:5]"
   ]
  },
  {
   "cell_type": "markdown",
   "metadata": {},
   "source": [
    "`0`番目は省略して`[:5]`とすることもできる。"
   ]
  },
  {
   "cell_type": "code",
   "execution_count": null,
   "metadata": {
    "slideshow": {
     "slide_type": "subslide"
    }
   },
   "outputs": [],
   "source": [
    "\"今日は天気が良いです。\"[5:11]\n",
    "# or text[5:11]"
   ]
  },
  {
   "cell_type": "markdown",
   "metadata": {},
   "source": [
    "スライシングは`[start:end]`として書く。\n",
    "\n",
    "(start)番目から<font color=\"red\">(end-1)</font>番目が取り出される。"
   ]
  },
  {
   "cell_type": "markdown",
   "metadata": {},
   "source": [
    "一番最後も省略することができ，`[5:]`と書くこともできる。"
   ]
  },
  {
   "cell_type": "code",
   "execution_count": null,
   "metadata": {
    "slideshow": {
     "slide_type": "subslide"
    }
   },
   "outputs": [],
   "source": [
    "\"今日は天気が良いです。\"[1:11:2]\n",
    "# or text[1:11:2]"
   ]
  },
  {
   "cell_type": "code",
   "execution_count": null,
   "metadata": {},
   "outputs": [],
   "source": [
    "\"今日は天気が良いです。\"[::2]\n",
    "# or text[::2]"
   ]
  },
  {
   "cell_type": "markdown",
   "metadata": {
    "slideshow": {
     "slide_type": "-"
    }
   },
   "source": [
    "`[start:end:step]`と指定することで，stepの数飛ばしで文字を抽出することができる。"
   ]
  },
  {
   "cell_type": "markdown",
   "metadata": {
    "slideshow": {
     "slide_type": "subslide"
    }
   },
   "source": [
    "## 文字列のメソッド\n",
    "* 型には属性名と呼ばれるものがある。\n",
    "* `.属性名`でアクセスすることができる。\n",
    "* 丸括弧`()`をつけて呼び出せるものがあり，これをメソッドという。\n",
    "* 例えば，titleメソッドは最初の文字を大文字にする。\n",
    "* upperメソッドはすべての文字を大文字にする。"
   ]
  },
  {
   "cell_type": "code",
   "execution_count": null,
   "metadata": {
    "slideshow": {
     "slide_type": "subslide"
    }
   },
   "outputs": [],
   "source": [
    "# titleの使い方\n",
    "name = \"taro\"\n",
    "name.title()"
   ]
  },
  {
   "cell_type": "code",
   "execution_count": null,
   "metadata": {},
   "outputs": [],
   "source": [
    "# upperの使い方\n",
    "name = \"wakayama\"\n",
    "name.upper()"
   ]
  },
  {
   "cell_type": "markdown",
   "metadata": {
    "slideshow": {
     "slide_type": "subslide"
    }
   },
   "source": [
    "よく使うメソッド\n",
    "\n",
    "|メソッド|作用|\n",
    "|:-:|:-:|\n",
    "|count|単語の出現回数を返す|\n",
    "|index|単語の位置を返す，単語がなければエラー|\n",
    "|find|単語の位置を返す，単語がなければエラー|\n",
    "|strip|先頭及び末尾の空白を除去する|\n",
    "|startswith|その単語で始まっていればTrue,そうでなければFalse|\n",
    "|endswith|その単語で終わっていればTrue,そうでなければFalse|\n",
    "|split|文字列をリストに分割する|\n",
    "|join|リストを結合して文字列にする|"
   ]
  },
  {
   "cell_type": "markdown",
   "metadata": {
    "slideshow": {
     "slide_type": "slide"
    }
   },
   "source": [
    "# リスト①"
   ]
  },
  {
   "cell_type": "code",
   "execution_count": null,
   "metadata": {
    "slideshow": {
     "slide_type": "subslide"
    }
   },
   "outputs": [],
   "source": [
    "my_list = [\"hello\", 10, True, False, 11.5]"
   ]
  },
  {
   "cell_type": "code",
   "execution_count": null,
   "metadata": {},
   "outputs": [],
   "source": [
    "empyty_list = []"
   ]
  },
  {
   "cell_type": "markdown",
   "metadata": {},
   "source": [
    "`角括弧([])`の中に`カンマ(,)`区切りで格納したいデータを書く。\n",
    "\n",
    "数値や文字列などどんな型でもよい。"
   ]
  },
  {
   "cell_type": "code",
   "execution_count": null,
   "metadata": {
    "slideshow": {
     "slide_type": "subslide"
    }
   },
   "outputs": [],
   "source": [
    "str_list = list(\"hello\")"
   ]
  },
  {
   "cell_type": "code",
   "execution_count": null,
   "metadata": {
    "slideshow": {
     "slide_type": "-"
    }
   },
   "outputs": [],
   "source": [
    "リストに文字列を渡すと，一文字ずつのリストが作成される。"
   ]
  },
  {
   "cell_type": "code",
   "execution_count": null,
   "metadata": {
    "slideshow": {
     "slide_type": "subslide"
    }
   },
   "outputs": [],
   "source": [
    "foods = [\"カレー\", \"チャーハン\", \"寿司\", \"牛丼\"]"
   ]
  },
  {
   "cell_type": "code",
   "execution_count": null,
   "metadata": {},
   "outputs": [],
   "source": [
    "foods[1]"
   ]
  },
  {
   "cell_type": "code",
   "execution_count": null,
   "metadata": {},
   "outputs": [],
   "source": [
    "foods[::-1]"
   ]
  },
  {
   "cell_type": "markdown",
   "metadata": {},
   "source": [
    "リストはシーケンス型であるので，スライシングやインデクシングができる。\n",
    "\n",
    "リストの反転は`[::-1]`とすれば反転される。よく使うテクニックなので覚えておくとよい。"
   ]
  },
  {
   "cell_type": "markdown",
   "metadata": {
    "slideshow": {
     "slide_type": "subslide"
    }
   },
   "source": [
    "リストに良く用いる関数\n",
    "\n",
    "|関数名|概要|使い方|\n",
    "|:-:|:-:|:-:|\n",
    "|len|長さを返す|len([1,2,3,4,5])|\n",
    "|max|最大の要素を返す|max([1,2,3,4,5])|\n",
    "|min|最小の要素を返す|min([1,2,3,4,5])|\n",
    "|sum|合計を返す|sum([1,2,3,4,5])|\n",
    "|sorted|ソートしたいリストを返す|sorted([1,2,3,4,5])|\n",
    "|sorted|(逆順)引数にreverse=Trueを追加|sorted([1,2,3,4,5],reverse = Ture)|"
   ]
  },
  {
   "cell_type": "markdown",
   "metadata": {
    "slideshow": {
     "slide_type": "slide"
    }
   },
   "source": [
    "# 条件分岐 if文①"
   ]
  },
  {
   "cell_type": "markdown",
   "metadata": {},
   "source": [
    "if文の構文\n",
    "\n",
    "```\n",
    "if 条件式:\n",
    "    処理\n",
    "```\n",
    "\n",
    "* 条件式の部分は，TrueもしくはFalseが入る。\n",
    "* 処理の前には必ず4つのスペースを入れる。"
   ]
  },
  {
   "cell_type": "code",
   "execution_count": null,
   "metadata": {
    "slideshow": {
     "slide_type": "subslide"
    }
   },
   "outputs": [],
   "source": [
    "your_name = \"佐藤\"\n",
    "if your_name.startswith(\"佐藤\"):\n",
    "    print(\"あなたは佐藤さんです\")"
   ]
  },
  {
   "cell_type": "markdown",
   "metadata": {},
   "source": [
    "your_nameに`佐藤`を代入する\n",
    "\n",
    "もし、あなたが`佐藤`さんならば、`あなたは佐藤さんです`と表示する。"
   ]
  },
  {
   "cell_type": "markdown",
   "metadata": {
    "slideshow": {
     "slide_type": "subslide"
    }
   },
   "source": [
    "条件を加える場合は，elifやelseを使う。"
   ]
  },
  {
   "cell_type": "code",
   "execution_count": null,
   "metadata": {},
   "outputs": [],
   "source": [
    "your_name = \n",
    "if your_name.startswith(\"佐藤\"):\n",
    "    print(\"あなたは佐藤さんです\")\n",
    "elif your_name.startswith(\"田中\"):\n",
    "    print(\"こんにちわ，田中さん\")\n",
    "else:\n",
    "    print(\"知らない人です\")"
   ]
  },
  {
   "cell_type": "markdown",
   "metadata": {
    "slideshow": {
     "slide_type": "subslide"
    }
   },
   "source": [
    "* 条件式にはTrue/Falseが入る。条件式のところに比較演算子でboolを得ることもできる。\n",
    "* 比較演算子は表の通りである。"
   ]
  },
  {
   "cell_type": "markdown",
   "metadata": {
    "slideshow": {
     "slide_type": "subslide"
    }
   },
   "source": [
    "|演算子|意味|\n",
    "|:-:|:-:|\n",
    "|<|より小さい|\n",
    "|<=|以下|\n",
    "|>|より大きい|\n",
    "|>=|以上|\n",
    "|==|等しい|\n",
    "|!=|等しくない|\n",
    "|is|同一のオブジェクトである|\n",
    "|is not|同一のオブジェクトでない|\n",
    "|in|含む|"
   ]
  },
  {
   "cell_type": "markdown",
   "metadata": {
    "slideshow": {
     "slide_type": "subslide"
    }
   },
   "source": [
    "* 複数の条件の組み合わせによって条件式を成り立たせる書き方がある。\n",
    "\n",
    "|演算子|意味|\n",
    "|:-|:-|\n",
    "|x or y|xとyのどちらかがTrueならば，True|\n",
    "|x and y|xとyともにTrueならば，True|\n",
    "|not x|xがFalseならば，True|"
   ]
  },
  {
   "cell_type": "markdown",
   "metadata": {
    "slideshow": {
     "slide_type": "slide"
    }
   },
   "source": [
    "# for文①"
   ]
  },
  {
   "cell_type": "markdown",
   "metadata": {},
   "source": [
    "データの集まりから順番にデータを取り出すのがfor文の考え方である。\n",
    "\n",
    "for文の基本の書き方\n",
    "\n",
    "```\n",
    "for i in データの集まり:\n",
    "    処理\n",
    "```\n",
    "処理の前はインデント(4つの半角スペース)を入れてブロックを作る"
   ]
  },
  {
   "cell_type": "code",
   "execution_count": null,
   "metadata": {
    "slideshow": {
     "slide_type": "subslide"
    }
   },
   "outputs": [],
   "source": [
    "numbers = [1,2,3,4,5]\n",
    "for i in numbers:\n",
    "    print(i)"
   ]
  },
  {
   "cell_type": "markdown",
   "metadata": {
    "slideshow": {
     "slide_type": "skip"
    }
   },
   "source": [
    "# リスト②\n",
    "\n",
    "飛ばします。"
   ]
  },
  {
   "cell_type": "markdown",
   "metadata": {
    "slideshow": {
     "slide_type": "skip"
    }
   },
   "source": [
    "# for文②"
   ]
  },
  {
   "cell_type": "markdown",
   "metadata": {
    "slideshow": {
     "slide_type": "slide"
    }
   },
   "source": [
    "# 関数文\n",
    "時間がないので飛ばします。が、最も重要な概念です。\n",
    "\n",
    "最近はライブラリが豊富になって使う機会は減ってきましたが、それでも重要であり、プログラムを用いた処理や分析をしようと思う方は早く乗り越えてもらいたいところです。ここを乗り越えれば比較的早く使いこなせると思います。"
   ]
  },
  {
   "cell_type": "markdown",
   "metadata": {
    "slideshow": {
     "slide_type": "slide"
    }
   },
   "source": [
    "# ライブラリ"
   ]
  },
  {
   "cell_type": "markdown",
   "metadata": {
    "slideshow": {
     "slide_type": "subslide"
    }
   },
   "source": [
    "* ライブラリには，標準ライブラリとサードパティライブラリがある。標準ライブラリでは解決しない問題を，サードパーティライブラリを使って問題に取り組むことができる。\n",
    "* Pythonではサードパーティライブラリが豊富である。\n"
   ]
  },
  {
   "cell_type": "markdown",
   "metadata": {
    "slideshow": {
     "slide_type": "subslide"
    }
   },
   "source": [
    "よく用いるライブラリ\n",
    "* pandas\n",
    "* numpy\n",
    "* matplotlib"
   ]
  },
  {
   "cell_type": "markdown",
   "metadata": {
    "slideshow": {
     "slide_type": "slide"
    }
   },
   "source": [
    "# [実践]重心動揺計の解析"
   ]
  },
  {
   "cell_type": "code",
   "execution_count": null,
   "metadata": {
    "slideshow": {
     "slide_type": "subslide"
    }
   },
   "outputs": [],
   "source": [
    "# 便利で必須のライブラリをインポートする\n",
    "import pandas as pd\n",
    "import numpy as np\n",
    "import matplotlib.pyplot as plt\n",
    "\n",
    "# 使う必要はないかもしれないが，一応入れておくライブラリ。\n",
    "import os\n",
    "import glob"
   ]
  },
  {
   "cell_type": "markdown",
   "metadata": {},
   "source": [
    "必要なライブラリを使える状態にする。インポートする。\n",
    "\n",
    "Anacodaをインストールすると、これら主要なライブラリは自動的に使える状態になる。\n"
   ]
  },
  {
   "cell_type": "code",
   "execution_count": null,
   "metadata": {
    "slideshow": {
     "slide_type": "notes"
    }
   },
   "outputs": [],
   "source": [
    "別途インストールすることもできる。\n",
    "```\n",
    "!pip install `インストールしたいパッケージ名`\n",
    "!conda install `インストールしたいパッケージ名`\n",
    "```"
   ]
  },
  {
   "cell_type": "code",
   "execution_count": null,
   "metadata": {
    "slideshow": {
     "slide_type": "subslide"
    }
   },
   "outputs": [],
   "source": [
    "os.getcwd()"
   ]
  },
  {
   "cell_type": "markdown",
   "metadata": {},
   "source": [
    "解析に直接関係しないがよく使う\n",
    "\n",
    "ディレクトリの確認"
   ]
  },
  {
   "cell_type": "code",
   "execution_count": null,
   "metadata": {
    "slideshow": {
     "slide_type": "subslide"
    }
   },
   "outputs": [],
   "source": [
    "os.listdir()"
   ]
  },
  {
   "cell_type": "markdown",
   "metadata": {},
   "source": [
    "解析に直接関係しないがよく使うテクニック\n",
    "\n",
    "current directoryのファイル(解析に使うファイルがあるかどうか。)"
   ]
  },
  {
   "cell_type": "code",
   "execution_count": null,
   "metadata": {
    "slideshow": {
     "slide_type": "subslide"
    }
   },
   "outputs": [],
   "source": [
    "df = pd.read_csv('20180302_8.csv',header=None,encoding=\"shift-JIS\")"
   ]
  },
  {
   "cell_type": "markdown",
   "metadata": {},
   "source": [
    "データを読み込む"
   ]
  },
  {
   "cell_type": "code",
   "execution_count": null,
   "metadata": {
    "slideshow": {
     "slide_type": "subslide"
    }
   },
   "outputs": [],
   "source": [
    "df.head(10)"
   ]
  },
  {
   "cell_type": "markdown",
   "metadata": {},
   "source": [
    "読み込まれているか確認する"
   ]
  },
  {
   "cell_type": "code",
   "execution_count": null,
   "metadata": {
    "slideshow": {
     "slide_type": "subslide"
    }
   },
   "outputs": [],
   "source": [
    "dat0 = df.iloc[7:,:3]"
   ]
  },
  {
   "cell_type": "markdown",
   "metadata": {},
   "source": [
    "データ範囲の抽出"
   ]
  },
  {
   "cell_type": "code",
   "execution_count": null,
   "metadata": {
    "slideshow": {
     "slide_type": "subslide"
    }
   },
   "outputs": [],
   "source": [
    "dat1 = dat0.values.astype(np.float)"
   ]
  },
  {
   "cell_type": "markdown",
   "metadata": {},
   "source": [
    "データのタイプの変更(計算できる状態にする)"
   ]
  },
  {
   "cell_type": "code",
   "execution_count": null,
   "metadata": {
    "slideshow": {
     "slide_type": "subslide"
    }
   },
   "outputs": [],
   "source": [
    "fig = plt.figure(figsize=(5,5))\n",
    "plt.plot(dat1[:,1],dat1[:,2],c=\"r\")\n",
    "plt.xlim(-1.6,0.4)\n",
    "plt.ylim(-6.2,-4.2)\n",
    "plt.grid()"
   ]
  },
  {
   "cell_type": "markdown",
   "metadata": {},
   "source": [
    "重心動揺波形の表示"
   ]
  },
  {
   "cell_type": "markdown",
   "metadata": {
    "slideshow": {
     "slide_type": "subslide"
    }
   },
   "source": [
    "## ホワイトノイズ"
   ]
  },
  {
   "cell_type": "markdown",
   "metadata": {
    "slideshow": {
     "slide_type": "subslide"
    }
   },
   "source": [
    "* 様々な計測を行う上でノイズは必ず含まれ，その処理が重要となる。\n",
    "* ノイズの除去（スムージング）の方法は様々である。\n",
    "* その中でも，移動平均，FFT(高速フーリエ変換)がよく使われる。\n",
    "* 計測機器に付随するソフトでもノイズ除去を行うが，何を使っているか不明なものもある。\n",
    "* Pythonでは強力なnumpy，scipyに上記計算処理メソッドがすでに用意されている(フリーで)。"
   ]
  },
  {
   "cell_type": "code",
   "execution_count": null,
   "metadata": {
    "slideshow": {
     "slide_type": "subslide"
    }
   },
   "outputs": [],
   "source": [
    "# フィルタリング１（ガウジアンフィルタ）\n",
    "p = stats.norm.pdf(np.arange(-1, 1+10/window, 10/window))\n",
    "kernel = p / sum(p)\n",
    "datgaus = np.convolve(dat[:,1],kernel,mode=\"same\")\n",
    "\n",
    "# フィルタリング2（移動平均）\n",
    "window = 60\n",
    "w = np.ones(window)/window\n",
    "datmean = np.convolve(dat[:,1], w, mode='same')"
   ]
  },
  {
   "cell_type": "markdown",
   "metadata": {},
   "source": [
    "フィルタリングするためのコードも短い。"
   ]
  },
  {
   "cell_type": "code",
   "execution_count": null,
   "metadata": {
    "slideshow": {
     "slide_type": "subslide"
    }
   },
   "outputs": [],
   "source": [
    "# ライブラリのインポート\n",
    "from scipy.ndimage import gaussian_filter1d\n",
    "\n",
    "def Gausianshow(dat):\n",
    "    time_vec = np.arange(0,dat[:,1].size*0.01,0.01)\n",
    "    sigdatax = gaussian_filter1d(dat[:,1],sigma=6)\n",
    "    sigdatay = gaussian_filter1d(dat[:,2],sigma=6)\n",
    "\n",
    "    fig = plt.figure(figsize=(20,5))\n",
    "    ax1 = fig.add_subplot(211)\n",
    "    ax2 = fig.add_subplot(212)\n",
    "    ax1.plot(time_vec,dat[:,1],c=\"gray\")\n",
    "    ax1.plot(time_vec,sigdatax,c=\"red\",alpha=0.5)\n",
    "    ax2.plot(time_vec,dat[:,2],c=\"gray\")\n",
    "    ax2.plot(time_vec,sigdatay,c=\"red\",alpha=0.5)\n",
    "\n",
    "    fig = plt.figure(figsize=(10,5))\n",
    "    ax3 = fig.add_subplot(121)\n",
    "    ax4 = fig.add_subplot(122)\n",
    "    ax3.plot(dat[:,1],dat[:,2],c=\"gray\")\n",
    "    ax4.plot(sigdatax,sigdatay,c=\"red\",alpha=0.5)\n",
    "    ax3.set_xlim(-1.6,0.4)\n",
    "    ax3.set_ylim(-6.2,-4.2)\n",
    "    ax3.grid()\n",
    "    ax4.set_xlim(-1.6,0.4)\n",
    "    ax4.set_ylim(-6.2,-4.2)\n",
    "    ax4.grid()"
   ]
  },
  {
   "cell_type": "code",
   "execution_count": null,
   "metadata": {
    "slideshow": {
     "slide_type": "subslide"
    }
   },
   "outputs": [],
   "source": [
    "Gausianshow(dat1)"
   ]
  },
  {
   "cell_type": "code",
   "execution_count": null,
   "metadata": {
    "slideshow": {
     "slide_type": "skip"
    }
   },
   "outputs": [],
   "source": [
    "from scipy import fftpack"
   ]
  },
  {
   "cell_type": "code",
   "execution_count": null,
   "metadata": {
    "slideshow": {
     "slide_type": "skip"
    }
   },
   "outputs": [],
   "source": [
    "# FFTを用いたフィルタリング\n",
    "\n",
    "def NewFFT(data,cutoff_hz,samplingdist = 0.01):\n",
    "    time_vec = np.arange(0, data.size*samplingdist, samplingdist)\n",
    "    samp_freq = fftpack.fftfreq(data.size, d = samplingdist)\n",
    "    sig_fft = fftpack.fft(data)\n",
    "    pidxs = np.where(samp_freq>0)\n",
    "    freqs = samp_freq[pidxs]\n",
    "    power = np.abs(sig_fft)[pidxs]\n",
    "    kc = int( np.round( cutoff_hz * data.size *samplingdist ) )\n",
    "    freq = freqs[kc]\n",
    "\n",
    "    sig_fft[np.abs(samp_freq)>freq]=0\n",
    "\n",
    "    main_sig = fftpack.ifft(sig_fft).real\n",
    "    \n",
    "    return time_vec,main_sig\n"
   ]
  },
  {
   "cell_type": "code",
   "execution_count": null,
   "metadata": {
    "slideshow": {
     "slide_type": "skip"
    }
   },
   "outputs": [],
   "source": [
    "def FFTshow(dat):\n",
    "    time_vec,sigdatax = NewFFT(dat[:,1],5)\n",
    "    time_vec,sigdatay = NewFFT(dat[:,2],5)\n",
    "\n",
    "    fig = plt.figure(figsize=(20,5))\n",
    "    ax1 = fig.add_subplot(211)\n",
    "    ax2 = fig.add_subplot(212)\n",
    "    ax1.plot(time_vec,dat[:,1],c=\"gray\")\n",
    "    ax1.plot(time_vec,sigdatax,c=\"red\",alpha=0.5)\n",
    "    ax2.plot(time_vec,dat[:,2],c=\"gray\")\n",
    "    ax2.plot(time_vec,sigdatay,c=\"red\",alpha=0.5)\n",
    "\n",
    "    fig = plt.figure(figsize=(10,5))\n",
    "    ax3 = fig.add_subplot(121)\n",
    "    ax4 = fig.add_subplot(122)\n",
    "    ax3.plot(dat[:,1],dat[:,2],c=\"gray\")\n",
    "    ax4.plot(sigdatax,sigdatay,c=\"red\",alpha=0.5)\n",
    "    ax3.set_xlim(-1.6,0.4)\n",
    "    ax3.set_ylim(-6.2,-4.2)\n",
    "    ax3.grid()\n",
    "    ax4.set_xlim(-1.6,0.4)\n",
    "    ax4.set_ylim(-6.2,-4.2)\n",
    "    ax4.grid()"
   ]
  },
  {
   "cell_type": "code",
   "execution_count": null,
   "metadata": {
    "slideshow": {
     "slide_type": "subslide"
    }
   },
   "outputs": [],
   "source": [
    "# FFTによるフィルタリング\n",
    "FFTshow(dat)"
   ]
  },
  {
   "cell_type": "markdown",
   "metadata": {
    "slideshow": {
     "slide_type": "slide"
    }
   },
   "source": [
    "# 筋電図の解析"
   ]
  },
  {
   "cell_type": "code",
   "execution_count": null,
   "metadata": {
    "slideshow": {
     "slide_type": "subslide"
    }
   },
   "outputs": [],
   "source": [
    "## libraryのインポート\n",
    "import numpy as np\n",
    "import matplotlib.pyplot as plt\n",
    "from scipy import signal"
   ]
  },
  {
   "cell_type": "code",
   "execution_count": null,
   "metadata": {
    "slideshow": {
     "slide_type": "subslide"
    }
   },
   "outputs": [],
   "source": [
    "## データの抽出のための関数の定義\n",
    "def dataset(dat,start=0):\n",
    "    a = dat[start:]\n",
    "    b = a.size\n",
    "    return a[:2**np.log2(b).astype(np.int)]"
   ]
  },
  {
   "cell_type": "code",
   "execution_count": null,
   "metadata": {
    "slideshow": {
     "slide_type": "subslide"
    }
   },
   "outputs": [],
   "source": [
    "## データの読み込み\n",
    "with open(\"RTmemdata_TSND151-AP09181552_2020-02-28_112636.348.csv\",\"r\") as d:\n",
    "    dat = d.readlines()\n",
    "    \n",
    "## データの読み込み\n",
    "myd = [i.replace(\"\\n\",\"\").split(\",\")[1:] for i in dat if i[0]==\"e\"]\n",
    "\n",
    "## 型の再定義\n",
    "df = np.array(myd).astype(np.int)[:,:3]\n",
    "\n",
    "## データの抽出\n",
    "df2 = dataset(df[:,1],3000)\n",
    "df3 = dataset(df[:,2],3000)"
   ]
  },
  {
   "cell_type": "code",
   "execution_count": null,
   "metadata": {
    "slideshow": {
     "slide_type": "subslide"
    }
   },
   "outputs": [],
   "source": [
    "## 短時間フーリエ変換(short-term Fourier transform)\n",
    "sig = df2\n",
    "f,t,Zxx = signal.stft(sig,fs=1000,nperseg = 2**15)"
   ]
  },
  {
   "cell_type": "code",
   "execution_count": null,
   "metadata": {
    "slideshow": {
     "slide_type": "subslide"
    }
   },
   "outputs": [],
   "source": [
    "## 作図\n",
    "ffrange = np.argwhere((f>=20)&(f<=250))[:,0]\n",
    "fig = plt.figure(figsize=(10,5))\n",
    "ax1 = fig.add_subplot(121)\n",
    "ax2 = fig.add_subplot(122)\n",
    "time = np.arange(0, sig.size*1/1000, 1/1000)\n",
    "ax1.pcolormesh(t,f[ffrange],np.abs(Zxx)[ffrange],vmin=0,vmax=50,cmap=\"magma\",shading=\"gouraud\")\n",
    "ax2.plot(time,sig)"
   ]
  },
  {
   "cell_type": "markdown",
   "metadata": {
    "slideshow": {
     "slide_type": "slide"
    }
   },
   "source": [
    "# まとめ"
   ]
  },
  {
   "cell_type": "markdown",
   "metadata": {
    "slideshow": {
     "slide_type": "subslide"
    }
   },
   "source": [
    "* デジタル化の促進に合わせたデータ計測・解析手法の導入\n",
    "* データ管理手法の変化\n",
    "* 固定観念に捉われない発想"
   ]
  },
  {
   "cell_type": "markdown",
   "metadata": {
    "slideshow": {
     "slide_type": "subslide"
    }
   },
   "source": [
    "Pythonのことをもっと知りたい方\n",
    "* Anacondaのインストール$\\rightarrow$Pythonの動作環境を構築する\n",
    "* キーワードをPython・・・，としてググる$\\rightarrow$欲しい情報はかなり高い確率でヒットする"
   ]
  },
  {
   "cell_type": "code",
   "execution_count": null,
   "metadata": {
    "slideshow": {
     "slide_type": "skip"
    }
   },
   "outputs": [],
   "source": []
  }
 ],
 "metadata": {
  "celltoolbar": "Slideshow",
  "kernelspec": {
   "display_name": "Python 3",
   "language": "python",
   "name": "python3"
  },
  "language_info": {
   "codemirror_mode": {
    "name": "ipython",
    "version": 3
   },
   "file_extension": ".py",
   "mimetype": "text/x-python",
   "name": "python",
   "nbconvert_exporter": "python",
   "pygments_lexer": "ipython3",
   "version": "3.8.5"
  },
  "widgets": {
   "application/vnd.jupyter.widget-state+json": {
    "state": {},
    "version_major": 2,
    "version_minor": 0
   }
  }
 },
 "nbformat": 4,
 "nbformat_minor": 4
}
